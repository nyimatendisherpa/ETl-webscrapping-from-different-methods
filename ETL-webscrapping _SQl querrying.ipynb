{
 "cells": [
  {
   "cell_type": "code",
   "execution_count": 185,
   "id": "ecd840da-10e9-48cf-a6a4-ca54b3d15bdf",
   "metadata": {},
   "outputs": [],
   "source": [
    "import pandas as pd\n",
    "import requests\n",
    "from bs4 import BeautifulSoup\n"
   ]
  },
  {
   "cell_type": "code",
   "execution_count": 187,
   "id": "ecdb41ca-deb0-43ff-a27a-fd301c540d13",
   "metadata": {},
   "outputs": [],
   "source": [
    "url=\"https://www.iplt20.com/auction/2024\"\n",
    "page=requests.get(url)\n",
    "html=BeautifulSoup(page.content,\"html.parser\")\n",
    "teams=html.find_all('section',class_=\"ih-points-table-sec position-relative\")\n",
    "title=[]"
   ]
  },
  {
   "cell_type": "code",
   "execution_count": 189,
   "id": "c48b61a7-20e3-4b01-85f0-0e6c531c8a4c",
   "metadata": {},
   "outputs": [
    {
     "data": {
      "text/plain": [
       "10"
      ]
     },
     "execution_count": 189,
     "metadata": {},
     "output_type": "execute_result"
    }
   ],
   "source": [
    "len(teams)"
   ]
  },
  {
   "cell_type": "code",
   "execution_count": 191,
   "id": "890605b3-b7af-425d-807e-8e5e7cd68c44",
   "metadata": {},
   "outputs": [
    {
     "data": {
      "text/plain": [
       "' Chennai Super Kings'"
      ]
     },
     "execution_count": 191,
     "metadata": {},
     "output_type": "execute_result"
    }
   ],
   "source": [
    "teams[0].find('h2').text"
   ]
  },
  {
   "cell_type": "code",
   "execution_count": 193,
   "id": "97fbffb4-ea16-48c3-892f-fa8ed02218db",
   "metadata": {},
   "outputs": [
    {
     "data": {
      "text/plain": [
       "7"
      ]
     },
     "execution_count": 193,
     "metadata": {},
     "output_type": "execute_result"
    }
   ],
   "source": [
    "table=teams[0].find('table')\n",
    "trs=table.find_all('tr')\n",
    "len(trs)\n"
   ]
  },
  {
   "cell_type": "code",
   "execution_count": 211,
   "id": "7b313e7a-88f8-4686-b462-566f3678bb3b",
   "metadata": {},
   "outputs": [],
   "source": [
    "title=[]\n",
    "player_name=[]\n",
    "\n",
    "Nationality=[]\n",
    "Player_Type=[]\n",
    "price_paid=[]\n",
    "\n",
    "\n",
    "table=teams[0].find('table')\n",
    "for tr in trs[1:]:\n",
    "    team_name=teams[0].find('h2').text\n",
    "\n",
    "    \n",
    "    tds=tr.find_all('td')\n",
    "    # print(tds[1])\n",
    "    title.append(team_name),\n",
    "    player_name.append(tds[1].text)\n",
    "    Nationality.append(tds[2].text)\n",
    "    Player_Type.append(tds[3].text)\n",
    "    price_paid.append(tds[4])"
   ]
  },
  {
   "cell_type": "code",
   "execution_count": 235,
   "id": "b6cbd30b-fbf9-422a-aa33-dd23c04cdb87",
   "metadata": {},
   "outputs": [
    {
     "data": {
      "text/plain": [
       "[' Chennai Super Kings',\n",
       " ' Chennai Super Kings',\n",
       " ' Chennai Super Kings',\n",
       " ' Chennai Super Kings',\n",
       " ' Chennai Super Kings',\n",
       " ' Chennai Super Kings']"
      ]
     },
     "execution_count": 235,
     "metadata": {},
     "output_type": "execute_result"
    }
   ],
   "source": [
    "title"
   ]
  },
  {
   "cell_type": "code",
   "execution_count": 233,
   "id": "67848624-2a1d-4282-9b2b-295d2f246f32",
   "metadata": {},
   "outputs": [
    {
     "data": {
      "text/plain": [
       "['Avanish Rao Aravelly ',\n",
       " 'Mustafizur Rahman ',\n",
       " 'Daryl Mitchell ',\n",
       " 'Sameer Rizvi ',\n",
       " 'Rachin Ravindra ',\n",
       " 'Shardul Thakur ']"
      ]
     },
     "execution_count": 233,
     "metadata": {},
     "output_type": "execute_result"
    }
   ],
   "source": [
    "player_name"
   ]
  },
  {
   "cell_type": "code",
   "execution_count": 215,
   "id": "ac29ac75-66e1-4497-a740-c933e91b5227",
   "metadata": {},
   "outputs": [
    {
     "data": {
      "text/plain": [
       "['Indian ', 'Overseas ', 'Overseas ', 'Indian ', 'Overseas ', 'Indian ']"
      ]
     },
     "execution_count": 215,
     "metadata": {},
     "output_type": "execute_result"
    }
   ],
   "source": [
    "Nationality"
   ]
  },
  {
   "cell_type": "code",
   "execution_count": 217,
   "id": "745ff61f-1c70-42ac-8b11-7778715ce76b",
   "metadata": {},
   "outputs": [
    {
     "data": {
      "text/plain": [
       "[<td>Wicket-Keeper </td>,\n",
       " <td>Bowler </td>,\n",
       " <td>All-Rounder </td>,\n",
       " <td>Batter </td>,\n",
       " <td>All-Rounder </td>,\n",
       " <td>All-Rounder </td>]"
      ]
     },
     "execution_count": 217,
     "metadata": {},
     "output_type": "execute_result"
    }
   ],
   "source": [
    "win_bid"
   ]
  },
  {
   "cell_type": "code",
   "execution_count": 219,
   "id": "45987317-6b1a-4e0c-b424-162bebf2f767",
   "metadata": {},
   "outputs": [
    {
     "data": {
      "text/plain": [
       "['Wicket-Keeper ',\n",
       " 'Bowler ',\n",
       " 'All-Rounder ',\n",
       " 'Batter ',\n",
       " 'All-Rounder ',\n",
       " 'All-Rounder ']"
      ]
     },
     "execution_count": 219,
     "metadata": {},
     "output_type": "execute_result"
    }
   ],
   "source": [
    "Player_Type"
   ]
  },
  {
   "cell_type": "code",
   "execution_count": 221,
   "id": "13164660-1fac-4e5d-9d4d-853cfacce571",
   "metadata": {},
   "outputs": [
    {
     "data": {
      "text/plain": [
       "[<td class=\"rpSymbol\">20,00,000 </td>,\n",
       " <td class=\"rpSymbol\">2,00,00,000 </td>,\n",
       " <td class=\"rpSymbol\">14,00,00,000 </td>,\n",
       " <td class=\"rpSymbol\">8,40,00,000 </td>,\n",
       " <td class=\"rpSymbol\">1,80,00,000 </td>,\n",
       " <td class=\"rpSymbol\">4,00,00,000 </td>]"
      ]
     },
     "execution_count": 221,
     "metadata": {},
     "output_type": "execute_result"
    }
   ],
   "source": [
    "price_paid"
   ]
  },
  {
   "cell_type": "code",
   "execution_count": 226,
   "id": "ee1c996b-fef2-4fdf-8374-5dbed160fbee",
   "metadata": {},
   "outputs": [],
   "source": [
    "df=pd.DataFrame({\n",
    "    'Team':title,\n",
    "    'player_name':player_name,\n",
    "    'Nationality':Nationality,\n",
    "    'Player_Type':Player_Type,\n",
    "    'price_paid':price_paid\n",
    "})"
   ]
  },
  {
   "cell_type": "code",
   "execution_count": 247,
   "id": "6708ffb8-774e-4f49-9099-f0856f1220eb",
   "metadata": {},
   "outputs": [],
   "source": [
    "df.to_csv('IPL_webscrapping.csv')"
   ]
  },
  {
   "cell_type": "code",
   "execution_count": 241,
   "id": "88f6cc6f-62ba-4a10-9d5b-006ed4da1ddd",
   "metadata": {},
   "outputs": [
    {
     "data": {
      "text/html": [
       "<div>\n",
       "<style scoped>\n",
       "    .dataframe tbody tr th:only-of-type {\n",
       "        vertical-align: middle;\n",
       "    }\n",
       "\n",
       "    .dataframe tbody tr th {\n",
       "        vertical-align: top;\n",
       "    }\n",
       "\n",
       "    .dataframe thead th {\n",
       "        text-align: right;\n",
       "    }\n",
       "</style>\n",
       "<table border=\"1\" class=\"dataframe\">\n",
       "  <thead>\n",
       "    <tr style=\"text-align: right;\">\n",
       "      <th></th>\n",
       "      <th>Team</th>\n",
       "      <th>player_name</th>\n",
       "      <th>Nationality</th>\n",
       "      <th>Player_Type</th>\n",
       "      <th>price_paid</th>\n",
       "    </tr>\n",
       "  </thead>\n",
       "  <tbody>\n",
       "    <tr>\n",
       "      <th>0</th>\n",
       "      <td>Chennai Super Kings</td>\n",
       "      <td>Avanish Rao Aravelly</td>\n",
       "      <td>Indian</td>\n",
       "      <td>Wicket-Keeper</td>\n",
       "      <td>[20,00,000 ]</td>\n",
       "    </tr>\n",
       "    <tr>\n",
       "      <th>1</th>\n",
       "      <td>Chennai Super Kings</td>\n",
       "      <td>Mustafizur Rahman</td>\n",
       "      <td>Overseas</td>\n",
       "      <td>Bowler</td>\n",
       "      <td>[2,00,00,000 ]</td>\n",
       "    </tr>\n",
       "    <tr>\n",
       "      <th>2</th>\n",
       "      <td>Chennai Super Kings</td>\n",
       "      <td>Daryl Mitchell</td>\n",
       "      <td>Overseas</td>\n",
       "      <td>All-Rounder</td>\n",
       "      <td>[14,00,00,000 ]</td>\n",
       "    </tr>\n",
       "    <tr>\n",
       "      <th>3</th>\n",
       "      <td>Chennai Super Kings</td>\n",
       "      <td>Sameer Rizvi</td>\n",
       "      <td>Indian</td>\n",
       "      <td>Batter</td>\n",
       "      <td>[8,40,00,000 ]</td>\n",
       "    </tr>\n",
       "    <tr>\n",
       "      <th>4</th>\n",
       "      <td>Chennai Super Kings</td>\n",
       "      <td>Rachin Ravindra</td>\n",
       "      <td>Overseas</td>\n",
       "      <td>All-Rounder</td>\n",
       "      <td>[1,80,00,000 ]</td>\n",
       "    </tr>\n",
       "    <tr>\n",
       "      <th>5</th>\n",
       "      <td>Chennai Super Kings</td>\n",
       "      <td>Shardul Thakur</td>\n",
       "      <td>Indian</td>\n",
       "      <td>All-Rounder</td>\n",
       "      <td>[4,00,00,000 ]</td>\n",
       "    </tr>\n",
       "  </tbody>\n",
       "</table>\n",
       "</div>"
      ],
      "text/plain": [
       "                   Team            player_name Nationality     Player_Type  \\\n",
       "0   Chennai Super Kings  Avanish Rao Aravelly      Indian   Wicket-Keeper    \n",
       "1   Chennai Super Kings     Mustafizur Rahman    Overseas          Bowler    \n",
       "2   Chennai Super Kings        Daryl Mitchell    Overseas     All-Rounder    \n",
       "3   Chennai Super Kings          Sameer Rizvi      Indian          Batter    \n",
       "4   Chennai Super Kings       Rachin Ravindra    Overseas     All-Rounder    \n",
       "5   Chennai Super Kings        Shardul Thakur      Indian     All-Rounder    \n",
       "\n",
       "        price_paid  \n",
       "0     [20,00,000 ]  \n",
       "1   [2,00,00,000 ]  \n",
       "2  [14,00,00,000 ]  \n",
       "3   [8,40,00,000 ]  \n",
       "4   [1,80,00,000 ]  \n",
       "5   [4,00,00,000 ]  "
      ]
     },
     "execution_count": 241,
     "metadata": {},
     "output_type": "execute_result"
    }
   ],
   "source": [
    "df.head(100)"
   ]
  },
  {
   "cell_type": "code",
   "execution_count": 239,
   "id": "87022281-122a-464d-812a-c37a45775565",
   "metadata": {},
   "outputs": [
    {
     "data": {
      "text/html": [
       "<div>\n",
       "<style scoped>\n",
       "    .dataframe tbody tr th:only-of-type {\n",
       "        vertical-align: middle;\n",
       "    }\n",
       "\n",
       "    .dataframe tbody tr th {\n",
       "        vertical-align: top;\n",
       "    }\n",
       "\n",
       "    .dataframe thead th {\n",
       "        text-align: right;\n",
       "    }\n",
       "</style>\n",
       "<table border=\"1\" class=\"dataframe\">\n",
       "  <thead>\n",
       "    <tr style=\"text-align: right;\">\n",
       "      <th></th>\n",
       "      <th>Team</th>\n",
       "      <th>player_name</th>\n",
       "      <th>Nationality</th>\n",
       "      <th>Player_Type</th>\n",
       "      <th>price_paid</th>\n",
       "    </tr>\n",
       "  </thead>\n",
       "  <tbody>\n",
       "    <tr>\n",
       "      <th>1</th>\n",
       "      <td>Chennai Super Kings</td>\n",
       "      <td>Mustafizur Rahman</td>\n",
       "      <td>Overseas</td>\n",
       "      <td>Bowler</td>\n",
       "      <td>[2,00,00,000 ]</td>\n",
       "    </tr>\n",
       "    <tr>\n",
       "      <th>2</th>\n",
       "      <td>Chennai Super Kings</td>\n",
       "      <td>Daryl Mitchell</td>\n",
       "      <td>Overseas</td>\n",
       "      <td>All-Rounder</td>\n",
       "      <td>[14,00,00,000 ]</td>\n",
       "    </tr>\n",
       "    <tr>\n",
       "      <th>3</th>\n",
       "      <td>Chennai Super Kings</td>\n",
       "      <td>Sameer Rizvi</td>\n",
       "      <td>Indian</td>\n",
       "      <td>Batter</td>\n",
       "      <td>[8,40,00,000 ]</td>\n",
       "    </tr>\n",
       "    <tr>\n",
       "      <th>4</th>\n",
       "      <td>Chennai Super Kings</td>\n",
       "      <td>Rachin Ravindra</td>\n",
       "      <td>Overseas</td>\n",
       "      <td>All-Rounder</td>\n",
       "      <td>[1,80,00,000 ]</td>\n",
       "    </tr>\n",
       "    <tr>\n",
       "      <th>5</th>\n",
       "      <td>Chennai Super Kings</td>\n",
       "      <td>Shardul Thakur</td>\n",
       "      <td>Indian</td>\n",
       "      <td>All-Rounder</td>\n",
       "      <td>[4,00,00,000 ]</td>\n",
       "    </tr>\n",
       "  </tbody>\n",
       "</table>\n",
       "</div>"
      ],
      "text/plain": [
       "                   Team         player_name Nationality   Player_Type  \\\n",
       "1   Chennai Super Kings  Mustafizur Rahman    Overseas        Bowler    \n",
       "2   Chennai Super Kings     Daryl Mitchell    Overseas   All-Rounder    \n",
       "3   Chennai Super Kings       Sameer Rizvi      Indian        Batter    \n",
       "4   Chennai Super Kings    Rachin Ravindra    Overseas   All-Rounder    \n",
       "5   Chennai Super Kings     Shardul Thakur      Indian   All-Rounder    \n",
       "\n",
       "        price_paid  \n",
       "1   [2,00,00,000 ]  \n",
       "2  [14,00,00,000 ]  \n",
       "3   [8,40,00,000 ]  \n",
       "4   [1,80,00,000 ]  \n",
       "5   [4,00,00,000 ]  "
      ]
     },
     "execution_count": 239,
     "metadata": {},
     "output_type": "execute_result"
    }
   ],
   "source": [
    "df.tail()"
   ]
  },
  {
   "cell_type": "code",
   "execution_count": 243,
   "id": "163fdadc-866c-482e-9b83-fe20290b0aba",
   "metadata": {},
   "outputs": [
    {
     "data": {
      "text/html": [
       "<div>\n",
       "<style scoped>\n",
       "    .dataframe tbody tr th:only-of-type {\n",
       "        vertical-align: middle;\n",
       "    }\n",
       "\n",
       "    .dataframe tbody tr th {\n",
       "        vertical-align: top;\n",
       "    }\n",
       "\n",
       "    .dataframe thead th {\n",
       "        text-align: right;\n",
       "    }\n",
       "</style>\n",
       "<table border=\"1\" class=\"dataframe\">\n",
       "  <thead>\n",
       "    <tr style=\"text-align: right;\">\n",
       "      <th></th>\n",
       "      <th>Team</th>\n",
       "      <th>player_name</th>\n",
       "      <th>Nationality</th>\n",
       "      <th>Player_Type</th>\n",
       "      <th>price_paid</th>\n",
       "    </tr>\n",
       "  </thead>\n",
       "  <tbody>\n",
       "    <tr>\n",
       "      <th>count</th>\n",
       "      <td>6</td>\n",
       "      <td>6</td>\n",
       "      <td>6</td>\n",
       "      <td>6</td>\n",
       "      <td>6</td>\n",
       "    </tr>\n",
       "    <tr>\n",
       "      <th>unique</th>\n",
       "      <td>1</td>\n",
       "      <td>6</td>\n",
       "      <td>2</td>\n",
       "      <td>4</td>\n",
       "      <td>6</td>\n",
       "    </tr>\n",
       "    <tr>\n",
       "      <th>top</th>\n",
       "      <td>Chennai Super Kings</td>\n",
       "      <td>Avanish Rao Aravelly</td>\n",
       "      <td>Indian</td>\n",
       "      <td>All-Rounder</td>\n",
       "      <td>[20,00,000 ]</td>\n",
       "    </tr>\n",
       "    <tr>\n",
       "      <th>freq</th>\n",
       "      <td>6</td>\n",
       "      <td>1</td>\n",
       "      <td>3</td>\n",
       "      <td>3</td>\n",
       "      <td>1</td>\n",
       "    </tr>\n",
       "  </tbody>\n",
       "</table>\n",
       "</div>"
      ],
      "text/plain": [
       "                        Team            player_name Nationality   Player_Type  \\\n",
       "count                      6                      6           6             6   \n",
       "unique                     1                      6           2             4   \n",
       "top      Chennai Super Kings  Avanish Rao Aravelly      Indian   All-Rounder    \n",
       "freq                       6                      1           3             3   \n",
       "\n",
       "          price_paid  \n",
       "count              6  \n",
       "unique             6  \n",
       "top     [20,00,000 ]  \n",
       "freq               1  "
      ]
     },
     "execution_count": 243,
     "metadata": {},
     "output_type": "execute_result"
    }
   ],
   "source": [
    "df.describe()"
   ]
  },
  {
   "cell_type": "code",
   "execution_count": 245,
   "id": "ad84b091-25dd-424c-9edd-47cf2d4adfd6",
   "metadata": {},
   "outputs": [
    {
     "data": {
      "text/plain": [
       "Team           6\n",
       "player_name    6\n",
       "Nationality    6\n",
       "Player_Type    6\n",
       "price_paid     6\n",
       "dtype: int64"
      ]
     },
     "execution_count": 245,
     "metadata": {},
     "output_type": "execute_result"
    }
   ],
   "source": [
    "df.count()"
   ]
  },
  {
   "cell_type": "code",
   "execution_count": null,
   "id": "29cbb423-6ab2-4da3-8bee-adac1c69cc4e",
   "metadata": {},
   "outputs": [],
   "source": []
  }
 ],
 "metadata": {
  "kernelspec": {
   "display_name": "Python [conda env:base] *",
   "language": "python",
   "name": "conda-base-py"
  },
  "language_info": {
   "codemirror_mode": {
    "name": "ipython",
    "version": 3
   },
   "file_extension": ".py",
   "mimetype": "text/x-python",
   "name": "python",
   "nbconvert_exporter": "python",
   "pygments_lexer": "ipython3",
   "version": "3.12.2"
  }
 },
 "nbformat": 4,
 "nbformat_minor": 5
}
