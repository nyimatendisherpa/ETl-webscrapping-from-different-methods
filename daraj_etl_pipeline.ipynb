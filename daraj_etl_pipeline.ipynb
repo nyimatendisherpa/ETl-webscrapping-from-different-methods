{
 "cells": [
  {
   "cell_type": "code",
   "execution_count": 138,
   "id": "4a9168c4",
   "metadata": {},
   "outputs": [
    {
     "name": "stdout",
     "output_type": "stream",
     "text": [
      "Requirement already satisfied: requests in /opt/anaconda3/lib/python3.12/site-packages (2.32.3)\n",
      "Requirement already satisfied: charset-normalizer<4,>=2 in /opt/anaconda3/lib/python3.12/site-packages (from requests) (3.3.2)\n",
      "Requirement already satisfied: idna<4,>=2.5 in /opt/anaconda3/lib/python3.12/site-packages (from requests) (3.7)\n",
      "Requirement already satisfied: urllib3<3,>=1.21.1 in /opt/anaconda3/lib/python3.12/site-packages (from requests) (2.4.0)\n",
      "Requirement already satisfied: certifi>=2017.4.17 in /opt/anaconda3/lib/python3.12/site-packages (from requests) (2025.4.26)\n",
      "Collecting BeautifulSoup\n",
      "  Using cached BeautifulSoup-3.2.2.tar.gz (32 kB)\n",
      "  Preparing metadata (setup.py) ... \u001b[?25lerror\n",
      "  \u001b[1;31merror\u001b[0m: \u001b[1msubprocess-exited-with-error\u001b[0m\n",
      "  \n",
      "  \u001b[31m×\u001b[0m \u001b[32mpython setup.py egg_info\u001b[0m did not run successfully.\n",
      "  \u001b[31m│\u001b[0m exit code: \u001b[1;36m1\u001b[0m\n",
      "  \u001b[31m╰─>\u001b[0m \u001b[31m[7 lines of output]\u001b[0m\n",
      "  \u001b[31m   \u001b[0m Traceback (most recent call last):\n",
      "  \u001b[31m   \u001b[0m   File \"<string>\", line 2, in <module>\n",
      "  \u001b[31m   \u001b[0m   File \"<pip-setuptools-caller>\", line 34, in <module>\n",
      "  \u001b[31m   \u001b[0m   File \"/private/var/folders/c9/x_801xtd2c17q3r73n166w340000gn/T/pip-install-hqh0yokn/beautifulsoup_19c16948888b4a6f8683d066ac9257b9/setup.py\", line 3\n",
      "  \u001b[31m   \u001b[0m     \"You're trying to run a very old release of Beautiful Soup under Python 3. This will not work.\"<>\"Please use Beautiful Soup 4, available through the pip package 'beautifulsoup4'.\"\n",
      "  \u001b[31m   \u001b[0m                                                                                                    ^^\n",
      "  \u001b[31m   \u001b[0m SyntaxError: invalid syntax\n",
      "  \u001b[31m   \u001b[0m \u001b[31m[end of output]\u001b[0m\n",
      "  \n",
      "  \u001b[1;35mnote\u001b[0m: This error originates from a subprocess, and is likely not a problem with pip.\n",
      "\u001b[?25h\u001b[1;31merror\u001b[0m: \u001b[1mmetadata-generation-failed\u001b[0m\n",
      "\n",
      "\u001b[31m×\u001b[0m Encountered error while generating package metadata.\n",
      "\u001b[31m╰─>\u001b[0m See above for output.\n",
      "\n",
      "\u001b[1;35mnote\u001b[0m: This is an issue with the package mentioned above, not pip.\n",
      "\u001b[1;36mhint\u001b[0m: See above for details.\n",
      "Requirement already satisfied: pandas in /opt/anaconda3/lib/python3.12/site-packages (2.2.2)\n",
      "Requirement already satisfied: numpy>=1.26.0 in /opt/anaconda3/lib/python3.12/site-packages (from pandas) (1.26.4)\n",
      "Requirement already satisfied: python-dateutil>=2.8.2 in /opt/anaconda3/lib/python3.12/site-packages (from pandas) (2.9.0.post0)\n",
      "Requirement already satisfied: pytz>=2020.1 in /opt/anaconda3/lib/python3.12/site-packages (from pandas) (2024.1)\n",
      "Requirement already satisfied: tzdata>=2022.7 in /opt/anaconda3/lib/python3.12/site-packages (from pandas) (2023.3)\n",
      "Requirement already satisfied: six>=1.5 in /opt/anaconda3/lib/python3.12/site-packages (from python-dateutil>=2.8.2->pandas) (1.16.0)\n",
      "Requirement already satisfied: sqlalchemy in /opt/anaconda3/lib/python3.12/site-packages (1.4.54)\n"
     ]
    }
   ],
   "source": [
    "!pip install requests\n",
    "!pip install BeautifulSoup\n",
    "!pip install pandas\n",
    "!pip install sqlalchemy\n"
   ]
  },
  {
   "cell_type": "code",
   "execution_count": 139,
   "id": "358f0514",
   "metadata": {},
   "outputs": [
    {
     "name": "stdout",
     "output_type": "stream",
     "text": [
      "Requirement already satisfied: selenium in /opt/anaconda3/lib/python3.12/site-packages (4.33.0)\n",
      "Requirement already satisfied: urllib3~=2.4.0 in /opt/anaconda3/lib/python3.12/site-packages (from urllib3[socks]~=2.4.0->selenium) (2.4.0)\n",
      "Requirement already satisfied: trio~=0.30.0 in /opt/anaconda3/lib/python3.12/site-packages (from selenium) (0.30.0)\n",
      "Requirement already satisfied: trio-websocket~=0.12.2 in /opt/anaconda3/lib/python3.12/site-packages (from selenium) (0.12.2)\n",
      "Requirement already satisfied: certifi>=2025.4.26 in /opt/anaconda3/lib/python3.12/site-packages (from selenium) (2025.4.26)\n",
      "Requirement already satisfied: typing_extensions~=4.13.2 in /opt/anaconda3/lib/python3.12/site-packages (from selenium) (4.13.2)\n",
      "Requirement already satisfied: websocket-client~=1.8.0 in /opt/anaconda3/lib/python3.12/site-packages (from selenium) (1.8.0)\n",
      "Requirement already satisfied: attrs>=23.2.0 in /opt/anaconda3/lib/python3.12/site-packages (from trio~=0.30.0->selenium) (25.3.0)\n",
      "Requirement already satisfied: sortedcontainers in /opt/anaconda3/lib/python3.12/site-packages (from trio~=0.30.0->selenium) (2.4.0)\n",
      "Requirement already satisfied: idna in /opt/anaconda3/lib/python3.12/site-packages (from trio~=0.30.0->selenium) (3.7)\n",
      "Requirement already satisfied: outcome in /opt/anaconda3/lib/python3.12/site-packages (from trio~=0.30.0->selenium) (1.3.0.post0)\n",
      "Requirement already satisfied: sniffio>=1.3.0 in /opt/anaconda3/lib/python3.12/site-packages (from trio~=0.30.0->selenium) (1.3.0)\n",
      "Requirement already satisfied: wsproto>=0.14 in /opt/anaconda3/lib/python3.12/site-packages (from trio-websocket~=0.12.2->selenium) (1.2.0)\n",
      "Requirement already satisfied: pysocks!=1.5.7,<2.0,>=1.5.6 in /opt/anaconda3/lib/python3.12/site-packages (from urllib3[socks]~=2.4.0->selenium) (1.7.1)\n",
      "Requirement already satisfied: h11<1,>=0.9.0 in /opt/anaconda3/lib/python3.12/site-packages (from wsproto>=0.14->trio-websocket~=0.12.2->selenium) (0.14.0)\n",
      "Note: you may need to restart the kernel to use updated packages.\n"
     ]
    }
   ],
   "source": [
    "pip install selenium"
   ]
  },
  {
   "cell_type": "code",
   "execution_count": 141,
   "id": "1f62be88",
   "metadata": {},
   "outputs": [],
   "source": [
    "import pandas as pandas\n",
    "import requests\n",
    "from bs4 import BeautifulSoup"
   ]
  },
  {
   "cell_type": "code",
   "execution_count": 142,
   "id": "545a68cf",
   "metadata": {},
   "outputs": [
    {
     "name": "stdout",
     "output_type": "stream",
     "text": [
      "<Response [403]>\n"
     ]
    }
   ],
   "source": [
    "url=\"https://www.olizstore.com/audio/top-audio-brands/\"\n",
    "r=requests.get(url)\n",
    "print(r)\n"
   ]
  },
  {
   "cell_type": "markdown",
   "id": "f1c1e9c4",
   "metadata": {},
   "source": [
    "Extraction"
   ]
  },
  {
   "cell_type": "code",
   "execution_count": 143,
   "id": "1052c3c9",
   "metadata": {},
   "outputs": [],
   "source": [
    "\n",
    "\n",
    "from selenium import webdriver\n",
    "from bs4 import BeautifulSoup\n",
    "import time\n",
    "\n",
    "driver = webdriver.Chrome()\n",
    "driver.get(\"https://www.daraz.com.np/motherboard/\")\n",
    "time.sleep(5)\n",
    "soup = BeautifulSoup(driver.page_source, 'html.parser')\n",
    "names = soup.find_all(\"div\", class_=\"Bm3ON\")\n",
    "product_names=[]\n",
    "for name in names:\n",
    "    product_names.append(name.text.strip())\n",
    "\n",
    "\n",
    "#PRODUCT NAME\n",
    "names=soup.find_all('h1',class_=\"product details product-item-details\")\n",
    "names = soup.find_all(\"div\", class_=\"Bm3ON\")\n",
    "\n",
    "products_names=[]\n",
    "for name in names:\n",
    "    products_names.append(name.text.strip())\n",
    "    "
   ]
  },
  {
   "cell_type": "code",
   "execution_count": 78,
   "id": "9f6f3a22",
   "metadata": {},
   "outputs": [
    {
     "data": {
      "text/plain": [
       "['Esonic H61 Motherboard with M.2 NVMe SSD Slot, Intel i3/i5/i7(2nd/3rd Generation)Rs. 2,490146 sold(59)Bagmati Province',\n",
       " 'ESONIC H61 Motherboard with M.2 NVMe SSD Slot, Supports 2nd & 3rd Gen ProcessorRs. 2,800Gems save Rs. 8423 sold(13)Bagmati Province',\n",
       " 'Matrix H61 MotherBoard with M.2 NVMe SSD Slot, Intel i3/i5/i7(2nd/3rd Generation)Rs. 2,49922 sold(6)Koshi Province',\n",
       " 'Esonic H81 DDR-3 Intel 4th Gen NVME MotherBoardRs. 3,999Gems save Rs. 4010 sold(4)Bagmati Province',\n",
       " 'ESONIC H61 Motherboard with M.2 NVMe SSD Slot, Supports 2nd & 3rd Gen ProcessorRs. 2,49052 sold(22)Bagmati Province',\n",
       " 'H61 Motherboard With NVME Slot Supports i3, i5, i7 2nd & 3rd generation processorRs. 2,550Gems save Rs. 2611 sold(5)Madhesh Province',\n",
       " 'Gigabyte B450M K Ultra Durable MotherboardRs. 13,499Gems save Rs. 405(2)Bagmati Province',\n",
       " 'VARTEX H61-V8 Pro Series Motherboard with NVMe M.2 SSD Slot – LGA1155, Supports Intel i3/i5/i7 (2nd/3rd Gen Processors)Rs. 3,200(1)Bagmati Province',\n",
       " 'Esonic H61 Motherboard 3rd Gen Intel H61 Chipset with M.2 NVMe Slot Supporting i3 / i5 / i7 ProcessorsRs. 2,999Gems save Rs. 3010 sold(4)Bagmati Province',\n",
       " 'Esonic H61 Motherboard With M.2 NVMe SSD Slot Supports Intel i3 | i5 | i7(2nd | 3rd Generation)Rs. 2,449Koshi Province',\n",
       " 'Esonic G41 MotherboardRs. 3,29019 sold(7)Bagmati Province',\n",
       " 'High quality ESONIC H81 motherboards LGA1150 4th Gen i3 i5 i7 CPU computer motherboard ddr3Rs. 3,950Gems save Rs. 1185 sold(1)Bagmati Province',\n",
       " 'ESP-32S ESP32 Development Board 2.4GHz WiFi + Bluetooth Dual Mode Antenna Module Networking Smart ComponentsRs. 1,160(1)Bagmati Province',\n",
       " 'ESONIC H81 Motherboard with M.2 NVMe SSD Slot , Supports 4th Gen ProcessorRs. 4,19913 sold(9)Bagmati Province',\n",
       " 'ESONIC H110 Motherboard witn M.2 NVMe Slot, Supports 6th, 7th, 8th & 9th Gen ProcessorRs. 6,500Gems save Rs. 1959 sold(5)Bagmati Province',\n",
       " 'ESONIC H81 Motherboard with M.2 NVMe SSD Slot , Supports 4th Gen ProcessorRs. 3,875(2)Bagmati Province',\n",
       " 'Esonic G41 Mother BoardRs. 2,99912 sold(3)Koshi Province',\n",
       " 'H310 8TH Gen MotherBoardRs. 5,999Gems save Rs. 606 sold(3)Bagmati Province',\n",
       " 'Combo Of NVME Powered Zebronics H81M2 And i3 4th Generation ProcessorRs. 6,5005 sold(4)Gandaki Province',\n",
       " 'Esonic Motherboard H61-FHL For Core 2nd/3th Generation I3/i5/i7 ProcessorRs. 4,39517 sold(7)Bagmati Province',\n",
       " 'ESONIC H81 Motherboard  with M.2 NVMe SSD Slot, Supports 4th Generatiion ProcessorRs. 5,000Gems save Rs. 15010 sold(4)Bagmati Province',\n",
       " 'ESONIC H110DA1 Micro ATX DDR4 Motherboard - Intel H110 Chipset  for 6th / 7th / 8th / 9th Generation Core™ i7 / Core™ i5 / Core™ i3 ProcessorRs. 5,999Gems save Rs. 607 sold(2)Bagmati Province',\n",
       " 'ESONIC H81 Motherboard with M.2 NVMe SSD Slot , Supports 4th Gen ProcessorRs. 3,999Gems save Rs. 4011 sold(3)Bagmati Province',\n",
       " 'Esonic H61 Motherboard For Intel i3/i5/i7(2nd/3rd Generation)Rs. 3,639Gems save Rs. 36(1)Bagmati Province',\n",
       " 'Esonic H610-DA Motherboard Intel H610 Chipset，Intel Socket 1700 for 12th Gen Core i9/i7/i5 Processors，DDR4，M.2，PCIE-X16 3.0，PCIE-X1，SATA 3.0，USB 3.0Rs. 9,500Gems save Rs. 285(2)Bagmati Province',\n",
       " 'Combo Of NVME Powered Zebronics H81M2 And i7 4th Generation ProcessorRs. 12,000(3)Gandaki Province',\n",
       " 'Combo Of NVME Powered Zebronics H61M2  And i3 2nd Generation ProcessorRs. 4,500(2)Gandaki Province',\n",
       " 'RP 2040 Board Pico- ADIY FLYRs. 770(1)Bagmati Province',\n",
       " 'Gigabyte B550M K Ultra Durable MotherboardRs. 17,999Gems save Rs. 540(1)Bagmati Province',\n",
       " 'Combo Of NVME Powered Zebronics H81M2 And i5 4th Generation ProcessorRs. 8,000(1)Gandaki Province',\n",
       " 'GIGABYTE ATX A520M K V2 Motherboard with GBe LAN with Bandwidth Management, DDR4, Pcie 3.0 X4 M.2, Smart Fan 5, Anti-Sulfur Resistors DesignRs. 15,500Gems save Rs. 465(1)Gandaki Province',\n",
       " 'h61 motherboard 3rd gen i3 i5 i7 processor support plus m.2 nvme portRs. 2,9995 sold(2)Bagmati Province',\n",
       " 'Gigabyte B550 Gaming X V2 ATX Gaming Motherboard For Ryzen 5000,7000 Series.Rs. 24,500Gems save Rs. 735(1)Gandaki Province',\n",
       " 'Gigabyte B550 Gaming X V2 MotherboardRs. 24,999Gems save Rs. 750(1)Bagmati Province',\n",
       " 'ESONIC H110 Motherboard witn M.2 NVMe Slot, Supports 6th, 7th, 8th & 9th Gen ProcessorRs. 5,999(1)Bagmati Province',\n",
       " '2 Digit PCI POST Diagnostic Motherboard Debugging CardRs. 390Gems save Rs. 48 sold(2)Bagmati Province',\n",
       " 'Milk-V Duo 256MB Milk-V-Duo-256M SG2002 RISC V Linux BoardRs. 6,006Gems save Rs. 120(1)Overseas',\n",
       " 'i5 4th Generation Processors For H81 Mainboards(Box And Fan Not included)Rs. 4,400Gems save Rs. 44(1)Bagmati Province',\n",
       " 'ESONIC H81 Motherboard with M.2 NVMe SSD Slot, Supports 4th Generation Processor[SuperFast Delivery Pokhara Kathmandu]Rs. 3,900Gems save Rs. 117(1)Gandaki Province',\n",
       " 'Consistent H610 DDR4 Motherboard Support 12th Gen.(LGA 1200), DDR4 3200/2666/2400Mhz, DDR4 SDRAM 64GB,2 * 288-pinRs. 8,500Bagmati Province']"
      ]
     },
     "execution_count": 78,
     "metadata": {},
     "output_type": "execute_result"
    }
   ],
   "source": [
    "products_names"
   ]
  },
  {
   "cell_type": "code",
   "execution_count": null,
   "id": "056dde7b",
   "metadata": {},
   "outputs": [
    {
     "name": "stdout",
     "output_type": "stream",
     "text": [
      "Esonic H61 Motherboard with M.2 NVMe SSD Slot, Intel i3/i5/i7(2nd/3rd Generation)\n",
      "ESONIC H61 Motherboard with M.2 NVMe SSD Slot, Supports 2nd & 3rd Gen Processor\n",
      "Matrix H61 MotherBoard with M.2 NVMe SSD Slot, Intel i3/i5/i7(2nd/3rd Generation)\n",
      "Esonic H81 DDR-3 Intel 4th Gen NVME MotherBoard\n",
      "ESONIC H61 Motherboard with M.2 NVMe SSD Slot, Supports 2nd & 3rd Gen Processor\n",
      "H61 Motherboard With NVME Slot Supports i3, i5, i7 2nd & 3rd generation processor\n",
      "Gigabyte B450M K Ultra Durable Motherboard\n",
      "VARTEX H61-V8 Pro Series Motherboard with NVMe M.2 SSD Slot – LGA1155, Supports Intel i3/i5/i7 (2nd/3rd Gen Processors)\n",
      "Esonic H61 Motherboard 3rd Gen Intel H61 Chipset with M.2 NVMe Slot Supporting i3 / i5 / i7 Processors\n",
      "Esonic H61 Motherboard With M.2 NVMe SSD Slot Supports Intel i3 | i5 | i7(2nd | 3rd Generation)\n",
      "Esonic G41 Motherboard\n",
      "High quality ESONIC H81 motherboards LGA1150 4th Gen i3 i5 i7 CPU computer motherboard ddr3\n",
      "ESP-32S ESP32 Development Board 2.4GHz WiFi + Bluetooth Dual Mode Antenna Module Networking Smart Components\n",
      "ESONIC H81 Motherboard with M.2 NVMe SSD Slot , Supports 4th Gen Processor\n",
      "ESONIC H110 Motherboard witn M.2 NVMe Slot, Supports 6th, 7th, 8th & 9th Gen Processor\n",
      "ESONIC H81 Motherboard with M.2 NVMe SSD Slot , Supports 4th Gen Processor\n",
      "Esonic G41 Mother Board\n",
      "H310 8TH Gen MotherBoard\n",
      "Combo Of NVME Powered Zebronics H81M2 And i3 4th Generation Processor\n",
      "Esonic Motherboard H61-FHL For Core 2nd/3th Generation I3/i5/i7 Processor\n",
      "ESONIC H81 Motherboard  with M.2 NVMe SSD Slot, Supports 4th Generatiion Processor\n",
      "ESONIC H110DA1 Micro ATX DDR4 Motherboard - Intel H110 Chipset  for 6th / 7th / 8th / 9th Generation Core™ i7 / Core™ i5 / Core™ i3 Processor\n",
      "ESONIC H81 Motherboard with M.2 NVMe SSD Slot , Supports 4th Gen Processor\n",
      "Esonic H61 Motherboard For Intel i3/i5/i7(2nd/3rd Generation)\n",
      "Esonic H610-DA Motherboard Intel H610 Chipset，Intel Socket 1700 for 12th Gen Core i9/i7/i5 Processors，DDR4，M.2，PCIE-X16 3.0，PCIE-X1，SATA 3.0，USB 3.0\n",
      "Combo Of NVME Powered Zebronics H81M2 And i7 4th Generation Processor\n",
      "Combo Of NVME Powered Zebronics H61M2  And i3 2nd Generation Processor\n",
      "RP 2040 Board Pico- ADIY FLY\n",
      "Gigabyte B550M K Ultra Durable Motherboard\n",
      "Combo Of NVME Powered Zebronics H81M2 And i5 4th Generation Processor\n",
      "GIGABYTE ATX A520M K V2 Motherboard with GBe LAN with Bandwidth Management, DDR4, Pcie 3.0 X4 M.2, Smart Fan 5, Anti-Sulfur Resistors Design\n",
      "h61 motherboard 3rd gen i3 i5 i7 processor support plus m.2 nvme port\n",
      "Gigabyte B550 Gaming X V2 ATX Gaming Motherboard For Ryzen 5000,7000 Series.\n",
      "Gigabyte B550 Gaming X V2 Motherboard\n",
      "ESONIC H110 Motherboard witn M.2 NVMe Slot, Supports 6th, 7th, 8th & 9th Gen Processor\n",
      "2 Digit PCI POST Diagnostic Motherboard Debugging Card\n",
      "Milk-V Duo 256MB Milk-V-Duo-256M SG2002 RISC V Linux Board\n",
      "i5 4th Generation Processors For H81 Mainboards(Box And Fan Not included)\n",
      "ESONIC H81 Motherboard with M.2 NVMe SSD Slot, Supports 4th Generation Processor[SuperFast Delivery Pokhara Kathmandu]\n",
      "Consistent H610 DDR4 Motherboard Support 12th Gen.(LGA 1200), DDR4 3200/2666/2400Mhz, DDR4 SDRAM 64GB,2 * 288-pin\n"
     ]
    }
   ],
   "source": [
    "soup = BeautifulSoup(driver.page_source, 'html.parser')\n",
    "\n",
    "#to find all product_containers\n",
    "products=soup.find_all(\"div\",class_=\"Bm3ON\")\n",
    "\n",
    "#extract product names\n",
    "for product in products:\n",
    "    name_tag=product.find(\"a\",title=True)\n",
    "    if name_tag:\n",
    "        print(name_tag['title'])"
   ]
  },
  {
   "cell_type": "code",
   "execution_count": 144,
   "id": "0ccb90cc",
   "metadata": {},
   "outputs": [
    {
     "name": "stdout",
     "output_type": "stream",
     "text": [
      "Rs. 2,490\n",
      "Rs. 2,800\n",
      "Rs. 2,499\n",
      "Rs. 3,999\n",
      "Rs. 2,490\n",
      "Rs. 2,550\n",
      "Rs. 13,499\n",
      "Rs. 3,200\n",
      "Rs. 2,999\n",
      "Rs. 2,449\n",
      "Rs. 3,290\n",
      "Rs. 3,950\n",
      "Rs. 1,160\n",
      "Rs. 4,199\n",
      "Rs. 6,500\n",
      "Rs. 3,875\n",
      "Rs. 2,999\n",
      "Rs. 5,999\n",
      "Rs. 6,500\n",
      "Rs. 4,395\n",
      "Rs. 5,000\n",
      "Rs. 5,999\n",
      "Rs. 3,999\n",
      "Rs. 3,639\n",
      "Rs. 9,500\n",
      "Rs. 12,000\n",
      "Rs. 4,500\n",
      "Rs. 770\n",
      "Rs. 17,999\n",
      "Rs. 8,000\n",
      "Rs. 15,500\n",
      "Rs. 2,999\n",
      "Rs. 24,500\n",
      "Rs. 24,999\n",
      "Rs. 5,999\n",
      "Rs. 390\n",
      "Rs. 6,006\n",
      "Rs. 4,400\n",
      "Rs. 3,900\n",
      "Rs. 8,500\n"
     ]
    }
   ],
   "source": [
    "soup = BeautifulSoup(driver.page_source, 'html.parser')\n",
    "products=soup.find_all(\"div\",class_=\"Bm3ON\")\n",
    "for price in products:\n",
    "    price_tag=price.find(\"span\",class_=\"ooOxS\")\n",
    "    if price_tag:\n",
    "        price=price_tag.text.strip()\n",
    "        print(price)"
   ]
  },
  {
   "cell_type": "code",
   "execution_count": 119,
   "id": "e2566a2c",
   "metadata": {},
   "outputs": [
    {
     "data": {
      "text/plain": [
       "'Rs. 8,500'"
      ]
     },
     "execution_count": 119,
     "metadata": {},
     "output_type": "execute_result"
    }
   ],
   "source": [
    "price"
   ]
  },
  {
   "cell_type": "code",
   "execution_count": 145,
   "id": "d5d80680",
   "metadata": {},
   "outputs": [],
   "source": [
    "Price=[]\n",
    "Actual_price=soup.find_all('div',class_=\"aBrP0\")\n",
    "for cost in Actual_price:\n",
    "    Price.append(cost.text)"
   ]
  },
  {
   "cell_type": "code",
   "execution_count": 146,
   "id": "89fc0ed3",
   "metadata": {},
   "outputs": [
    {
     "data": {
      "text/plain": [
       "['Rs. 2,490',\n",
       " 'Rs. 2,800',\n",
       " 'Rs. 2,499',\n",
       " 'Rs. 3,999',\n",
       " 'Rs. 2,490',\n",
       " 'Rs. 2,550',\n",
       " 'Rs. 13,499',\n",
       " 'Rs. 3,200',\n",
       " 'Rs. 2,999',\n",
       " 'Rs. 2,449',\n",
       " 'Rs. 3,290',\n",
       " 'Rs. 3,950',\n",
       " 'Rs. 1,160',\n",
       " 'Rs. 4,199',\n",
       " 'Rs. 6,500',\n",
       " 'Rs. 3,875',\n",
       " 'Rs. 2,999',\n",
       " 'Rs. 5,999',\n",
       " 'Rs. 6,500',\n",
       " 'Rs. 4,395',\n",
       " 'Rs. 5,000',\n",
       " 'Rs. 5,999',\n",
       " 'Rs. 3,999',\n",
       " 'Rs. 3,639',\n",
       " 'Rs. 9,500',\n",
       " 'Rs. 12,000',\n",
       " 'Rs. 4,500',\n",
       " 'Rs. 770',\n",
       " 'Rs. 17,999',\n",
       " 'Rs. 8,000',\n",
       " 'Rs. 15,500',\n",
       " 'Rs. 2,999',\n",
       " 'Rs. 24,500',\n",
       " 'Rs. 24,999',\n",
       " 'Rs. 5,999',\n",
       " 'Rs. 390',\n",
       " 'Rs. 6,006',\n",
       " 'Rs. 4,400',\n",
       " 'Rs. 3,900',\n",
       " 'Rs. 8,500']"
      ]
     },
     "execution_count": 146,
     "metadata": {},
     "output_type": "execute_result"
    }
   ],
   "source": [
    "Price"
   ]
  },
  {
   "cell_type": "code",
   "execution_count": 147,
   "id": "f2679c62",
   "metadata": {},
   "outputs": [],
   "source": [
    "disc_pric=[]\n",
    "discounts=soup.find_all('div',class_=\"WNoq3\")\n",
    "for disc in discounts:\n",
    "    disc_pric.append(disc.text)"
   ]
  },
  {
   "cell_type": "code",
   "execution_count": 148,
   "id": "4002a861",
   "metadata": {},
   "outputs": [
    {
     "data": {
      "text/plain": [
       "['',\n",
       " 'Gems save Rs. 84',\n",
       " '',\n",
       " 'Gems save Rs. 40',\n",
       " '',\n",
       " 'Gems save Rs. 26',\n",
       " 'Gems save Rs. 405',\n",
       " '',\n",
       " 'Gems save Rs. 30',\n",
       " '',\n",
       " '',\n",
       " 'Gems save Rs. 118',\n",
       " '',\n",
       " '',\n",
       " 'Gems save Rs. 195',\n",
       " '',\n",
       " '',\n",
       " 'Gems save Rs. 60',\n",
       " '',\n",
       " '',\n",
       " 'Gems save Rs. 150',\n",
       " 'Gems save Rs. 60',\n",
       " 'Gems save Rs. 40',\n",
       " 'Gems save Rs. 36',\n",
       " 'Gems save Rs. 285',\n",
       " '',\n",
       " '',\n",
       " '',\n",
       " 'Gems save Rs. 540',\n",
       " '',\n",
       " 'Gems save Rs. 465',\n",
       " '',\n",
       " 'Gems save Rs. 735',\n",
       " 'Gems save Rs. 750',\n",
       " '',\n",
       " 'Gems save Rs. 4',\n",
       " 'Gems save Rs. 120',\n",
       " 'Gems save Rs. 44',\n",
       " 'Gems save Rs. 117',\n",
       " '']"
      ]
     },
     "execution_count": 148,
     "metadata": {},
     "output_type": "execute_result"
    }
   ],
   "source": [
    "disc_pric"
   ]
  },
  {
   "cell_type": "code",
   "execution_count": 131,
   "id": "ef26c39a",
   "metadata": {},
   "outputs": [],
   "source": [
    "# # #how many sold\n",
    "# soup = BeautifulSoup(driver.page_source, 'html.parser')\n",
    "# products = soup.find_all(\"div\", class_=\"Bm3ON\")\n",
    "#  # loop through product and extract sold data\n",
    "# for product in products:\n",
    "#     sold_tag=product.find(\"span\",class_=\"r6Hkn\")\n",
    "#     if sold_tag:\n",
    "#         sold=sold_tag.text.strip()\n",
    "#         print(sold)\n",
    "\n"
   ]
  },
  {
   "cell_type": "code",
   "execution_count": 150,
   "id": "690f6afe",
   "metadata": {},
   "outputs": [
    {
     "data": {
      "text/plain": [
       "[]"
      ]
     },
     "execution_count": 150,
     "metadata": {},
     "output_type": "execute_result"
    }
   ],
   "source": [
    "location"
   ]
  },
  {
   "cell_type": "code",
   "execution_count": 151,
   "id": "7e55f514",
   "metadata": {},
   "outputs": [
    {
     "name": "stdout",
     "output_type": "stream",
     "text": [
      "Bagmati Province\n",
      "Bagmati Province\n",
      "Koshi Province\n",
      "Bagmati Province\n",
      "Bagmati Province\n",
      "Madhesh Province\n",
      "Bagmati Province\n",
      "Bagmati Province\n",
      "Bagmati Province\n",
      "Koshi Province\n",
      "Bagmati Province\n",
      "Bagmati Province\n",
      "Bagmati Province\n",
      "Bagmati Province\n",
      "Bagmati Province\n",
      "Bagmati Province\n",
      "Koshi Province\n",
      "Bagmati Province\n",
      "Gandaki Province\n",
      "Bagmati Province\n",
      "Bagmati Province\n",
      "Bagmati Province\n",
      "Bagmati Province\n",
      "Bagmati Province\n",
      "Bagmati Province\n",
      "Gandaki Province\n",
      "Gandaki Province\n",
      "Bagmati Province\n",
      "Bagmati Province\n",
      "Gandaki Province\n",
      "Gandaki Province\n",
      "Bagmati Province\n",
      "Gandaki Province\n",
      "Bagmati Province\n",
      "Bagmati Province\n",
      "Bagmati Province\n",
      "Overseas\n",
      "Bagmati Province\n",
      "Gandaki Province\n",
      "Bagmati Province\n"
     ]
    }
   ],
   "source": [
    "soup = BeautifulSoup(driver.page_source, 'html.parser')\n",
    "products = soup.find_all(\"div\", class_=\"Bm3ON\")\n",
    " # loop through product and extract location\n",
    "for product in products:\n",
    "    location_tag=product.find(\"span\",class_=\"oa6ri\")\n",
    "    if location_tag:\n",
    "        location=location_tag.get(\"title\",\"\").strip()\n",
    "        print(location)\n",
    "    \n",
    "\n"
   ]
  },
  {
   "cell_type": "code",
   "execution_count": 152,
   "id": "0c1252df",
   "metadata": {},
   "outputs": [],
   "source": [
    "import pandas as pd\n",
    "data=pd.DataFrame({\n",
    "    'Product_name':products_names,\n",
    "    'price':price,\n",
    "    'disc_price':disc_pric,\n",
    "    'location':location\n",
    "})"
   ]
  },
  {
   "cell_type": "code",
   "execution_count": 153,
   "id": "71cb8cec",
   "metadata": {},
   "outputs": [],
   "source": [
    "data.to_csv(\"Daraz_motherboard.csv\")"
   ]
  },
  {
   "cell_type": "code",
   "execution_count": 154,
   "id": "4c4d1e24",
   "metadata": {},
   "outputs": [
    {
     "data": {
      "text/html": [
       "<div>\n",
       "<style scoped>\n",
       "    .dataframe tbody tr th:only-of-type {\n",
       "        vertical-align: middle;\n",
       "    }\n",
       "\n",
       "    .dataframe tbody tr th {\n",
       "        vertical-align: top;\n",
       "    }\n",
       "\n",
       "    .dataframe thead th {\n",
       "        text-align: right;\n",
       "    }\n",
       "</style>\n",
       "<table border=\"1\" class=\"dataframe\">\n",
       "  <thead>\n",
       "    <tr style=\"text-align: right;\">\n",
       "      <th></th>\n",
       "      <th>Product_name</th>\n",
       "      <th>price</th>\n",
       "      <th>disc_price</th>\n",
       "      <th>location</th>\n",
       "    </tr>\n",
       "  </thead>\n",
       "  <tbody>\n",
       "    <tr>\n",
       "      <th>0</th>\n",
       "      <td>Esonic H61 Motherboard with M.2 NVMe SSD Slot,...</td>\n",
       "      <td>Rs. 8,500</td>\n",
       "      <td></td>\n",
       "      <td>Bagmati Province</td>\n",
       "    </tr>\n",
       "    <tr>\n",
       "      <th>1</th>\n",
       "      <td>ESONIC H61 Motherboard with M.2 NVMe SSD Slot,...</td>\n",
       "      <td>Rs. 8,500</td>\n",
       "      <td>Gems save Rs. 84</td>\n",
       "      <td>Bagmati Province</td>\n",
       "    </tr>\n",
       "    <tr>\n",
       "      <th>2</th>\n",
       "      <td>Matrix H61 MotherBoard with M.2 NVMe SSD Slot,...</td>\n",
       "      <td>Rs. 8,500</td>\n",
       "      <td></td>\n",
       "      <td>Bagmati Province</td>\n",
       "    </tr>\n",
       "    <tr>\n",
       "      <th>3</th>\n",
       "      <td>Esonic H81 DDR-3 Intel 4th Gen NVME MotherBoar...</td>\n",
       "      <td>Rs. 8,500</td>\n",
       "      <td>Gems save Rs. 40</td>\n",
       "      <td>Bagmati Province</td>\n",
       "    </tr>\n",
       "    <tr>\n",
       "      <th>4</th>\n",
       "      <td>ESONIC H61 Motherboard with M.2 NVMe SSD Slot,...</td>\n",
       "      <td>Rs. 8,500</td>\n",
       "      <td></td>\n",
       "      <td>Bagmati Province</td>\n",
       "    </tr>\n",
       "  </tbody>\n",
       "</table>\n",
       "</div>"
      ],
      "text/plain": [
       "                                        Product_name      price  \\\n",
       "0  Esonic H61 Motherboard with M.2 NVMe SSD Slot,...  Rs. 8,500   \n",
       "1  ESONIC H61 Motherboard with M.2 NVMe SSD Slot,...  Rs. 8,500   \n",
       "2  Matrix H61 MotherBoard with M.2 NVMe SSD Slot,...  Rs. 8,500   \n",
       "3  Esonic H81 DDR-3 Intel 4th Gen NVME MotherBoar...  Rs. 8,500   \n",
       "4  ESONIC H61 Motherboard with M.2 NVMe SSD Slot,...  Rs. 8,500   \n",
       "\n",
       "         disc_price          location  \n",
       "0                    Bagmati Province  \n",
       "1  Gems save Rs. 84  Bagmati Province  \n",
       "2                    Bagmati Province  \n",
       "3  Gems save Rs. 40  Bagmati Province  \n",
       "4                    Bagmati Province  "
      ]
     },
     "execution_count": 154,
     "metadata": {},
     "output_type": "execute_result"
    }
   ],
   "source": [
    "data.head()"
   ]
  },
  {
   "cell_type": "code",
   "execution_count": 155,
   "id": "d1a865c8",
   "metadata": {},
   "outputs": [
    {
     "data": {
      "text/html": [
       "<div>\n",
       "<style scoped>\n",
       "    .dataframe tbody tr th:only-of-type {\n",
       "        vertical-align: middle;\n",
       "    }\n",
       "\n",
       "    .dataframe tbody tr th {\n",
       "        vertical-align: top;\n",
       "    }\n",
       "\n",
       "    .dataframe thead th {\n",
       "        text-align: right;\n",
       "    }\n",
       "</style>\n",
       "<table border=\"1\" class=\"dataframe\">\n",
       "  <thead>\n",
       "    <tr style=\"text-align: right;\">\n",
       "      <th></th>\n",
       "      <th>Product_name</th>\n",
       "      <th>price</th>\n",
       "      <th>disc_price</th>\n",
       "      <th>location</th>\n",
       "    </tr>\n",
       "  </thead>\n",
       "  <tbody>\n",
       "    <tr>\n",
       "      <th>35</th>\n",
       "      <td>2 Digit PCI POST Diagnostic Motherboard Debugg...</td>\n",
       "      <td>Rs. 8,500</td>\n",
       "      <td>Gems save Rs. 4</td>\n",
       "      <td>Bagmati Province</td>\n",
       "    </tr>\n",
       "    <tr>\n",
       "      <th>36</th>\n",
       "      <td>Milk-V Duo 256MB Milk-V-Duo-256M SG2002 RISC V...</td>\n",
       "      <td>Rs. 8,500</td>\n",
       "      <td>Gems save Rs. 120</td>\n",
       "      <td>Bagmati Province</td>\n",
       "    </tr>\n",
       "    <tr>\n",
       "      <th>37</th>\n",
       "      <td>i5 4th Generation Processors For H81 Mainboard...</td>\n",
       "      <td>Rs. 8,500</td>\n",
       "      <td>Gems save Rs. 44</td>\n",
       "      <td>Bagmati Province</td>\n",
       "    </tr>\n",
       "    <tr>\n",
       "      <th>38</th>\n",
       "      <td>ESONIC H81 Motherboard with M.2 NVMe SSD Slot,...</td>\n",
       "      <td>Rs. 8,500</td>\n",
       "      <td>Gems save Rs. 117</td>\n",
       "      <td>Bagmati Province</td>\n",
       "    </tr>\n",
       "    <tr>\n",
       "      <th>39</th>\n",
       "      <td>Consistent H610 DDR4 Motherboard Support 12th ...</td>\n",
       "      <td>Rs. 8,500</td>\n",
       "      <td></td>\n",
       "      <td>Bagmati Province</td>\n",
       "    </tr>\n",
       "  </tbody>\n",
       "</table>\n",
       "</div>"
      ],
      "text/plain": [
       "                                         Product_name      price  \\\n",
       "35  2 Digit PCI POST Diagnostic Motherboard Debugg...  Rs. 8,500   \n",
       "36  Milk-V Duo 256MB Milk-V-Duo-256M SG2002 RISC V...  Rs. 8,500   \n",
       "37  i5 4th Generation Processors For H81 Mainboard...  Rs. 8,500   \n",
       "38  ESONIC H81 Motherboard with M.2 NVMe SSD Slot,...  Rs. 8,500   \n",
       "39  Consistent H610 DDR4 Motherboard Support 12th ...  Rs. 8,500   \n",
       "\n",
       "           disc_price          location  \n",
       "35    Gems save Rs. 4  Bagmati Province  \n",
       "36  Gems save Rs. 120  Bagmati Province  \n",
       "37   Gems save Rs. 44  Bagmati Province  \n",
       "38  Gems save Rs. 117  Bagmati Province  \n",
       "39                     Bagmati Province  "
      ]
     },
     "execution_count": 155,
     "metadata": {},
     "output_type": "execute_result"
    }
   ],
   "source": [
    "data.tail()"
   ]
  },
  {
   "cell_type": "code",
   "execution_count": 156,
   "id": "23cfdfa1",
   "metadata": {},
   "outputs": [
    {
     "data": {
      "text/html": [
       "<div>\n",
       "<style scoped>\n",
       "    .dataframe tbody tr th:only-of-type {\n",
       "        vertical-align: middle;\n",
       "    }\n",
       "\n",
       "    .dataframe tbody tr th {\n",
       "        vertical-align: top;\n",
       "    }\n",
       "\n",
       "    .dataframe thead th {\n",
       "        text-align: right;\n",
       "    }\n",
       "</style>\n",
       "<table border=\"1\" class=\"dataframe\">\n",
       "  <thead>\n",
       "    <tr style=\"text-align: right;\">\n",
       "      <th></th>\n",
       "      <th>Product_name</th>\n",
       "      <th>price</th>\n",
       "      <th>disc_price</th>\n",
       "      <th>location</th>\n",
       "    </tr>\n",
       "  </thead>\n",
       "  <tbody>\n",
       "    <tr>\n",
       "      <th>14</th>\n",
       "      <td>ESONIC H110 Motherboard witn M.2 NVMe Slot, Su...</td>\n",
       "      <td>Rs. 8,500</td>\n",
       "      <td>Gems save Rs. 195</td>\n",
       "      <td>Bagmati Province</td>\n",
       "    </tr>\n",
       "  </tbody>\n",
       "</table>\n",
       "</div>"
      ],
      "text/plain": [
       "                                         Product_name      price  \\\n",
       "14  ESONIC H110 Motherboard witn M.2 NVMe Slot, Su...  Rs. 8,500   \n",
       "\n",
       "           disc_price          location  \n",
       "14  Gems save Rs. 195  Bagmati Province  "
      ]
     },
     "execution_count": 156,
     "metadata": {},
     "output_type": "execute_result"
    }
   ],
   "source": [
    "data.sample()"
   ]
  },
  {
   "cell_type": "code",
   "execution_count": 157,
   "id": "4a8a0378",
   "metadata": {},
   "outputs": [
    {
     "data": {
      "text/html": [
       "<div>\n",
       "<style scoped>\n",
       "    .dataframe tbody tr th:only-of-type {\n",
       "        vertical-align: middle;\n",
       "    }\n",
       "\n",
       "    .dataframe tbody tr th {\n",
       "        vertical-align: top;\n",
       "    }\n",
       "\n",
       "    .dataframe thead th {\n",
       "        text-align: right;\n",
       "    }\n",
       "</style>\n",
       "<table border=\"1\" class=\"dataframe\">\n",
       "  <thead>\n",
       "    <tr style=\"text-align: right;\">\n",
       "      <th></th>\n",
       "      <th>Product_name</th>\n",
       "      <th>price</th>\n",
       "      <th>disc_price</th>\n",
       "      <th>location</th>\n",
       "    </tr>\n",
       "  </thead>\n",
       "  <tbody>\n",
       "    <tr>\n",
       "      <th>count</th>\n",
       "      <td>40</td>\n",
       "      <td>40</td>\n",
       "      <td>40</td>\n",
       "      <td>40</td>\n",
       "    </tr>\n",
       "    <tr>\n",
       "      <th>unique</th>\n",
       "      <td>40</td>\n",
       "      <td>1</td>\n",
       "      <td>20</td>\n",
       "      <td>1</td>\n",
       "    </tr>\n",
       "    <tr>\n",
       "      <th>top</th>\n",
       "      <td>Esonic H61 Motherboard with M.2 NVMe SSD Slot,...</td>\n",
       "      <td>Rs. 8,500</td>\n",
       "      <td></td>\n",
       "      <td>Bagmati Province</td>\n",
       "    </tr>\n",
       "    <tr>\n",
       "      <th>freq</th>\n",
       "      <td>1</td>\n",
       "      <td>40</td>\n",
       "      <td>19</td>\n",
       "      <td>40</td>\n",
       "    </tr>\n",
       "  </tbody>\n",
       "</table>\n",
       "</div>"
      ],
      "text/plain": [
       "                                             Product_name      price  \\\n",
       "count                                                  40         40   \n",
       "unique                                                 40          1   \n",
       "top     Esonic H61 Motherboard with M.2 NVMe SSD Slot,...  Rs. 8,500   \n",
       "freq                                                    1         40   \n",
       "\n",
       "       disc_price          location  \n",
       "count          40                40  \n",
       "unique         20                 1  \n",
       "top                Bagmati Province  \n",
       "freq           19                40  "
      ]
     },
     "execution_count": 157,
     "metadata": {},
     "output_type": "execute_result"
    }
   ],
   "source": [
    "data.describe()"
   ]
  },
  {
   "cell_type": "code",
   "execution_count": 158,
   "id": "316d7d81",
   "metadata": {},
   "outputs": [
    {
     "data": {
      "text/plain": [
       "2"
      ]
     },
     "execution_count": 158,
     "metadata": {},
     "output_type": "execute_result"
    }
   ],
   "source": [
    "#to findout dimension\n",
    "data.ndim"
   ]
  },
  {
   "cell_type": "code",
   "execution_count": 159,
   "id": "913001d2",
   "metadata": {},
   "outputs": [
    {
     "data": {
      "text/plain": [
       "160"
      ]
     },
     "execution_count": 159,
     "metadata": {},
     "output_type": "execute_result"
    }
   ],
   "source": [
    "data.size"
   ]
  },
  {
   "cell_type": "code",
   "execution_count": 160,
   "id": "7aa076ff",
   "metadata": {},
   "outputs": [
    {
     "data": {
      "text/plain": [
       "(40, 4)"
      ]
     },
     "execution_count": 160,
     "metadata": {},
     "output_type": "execute_result"
    }
   ],
   "source": [
    "data.shape"
   ]
  },
  {
   "cell_type": "code",
   "execution_count": 161,
   "id": "a8654866",
   "metadata": {},
   "outputs": [
    {
     "data": {
      "text/plain": [
       "Index(['Product_name', 'price', 'disc_price', 'location'], dtype='object')"
      ]
     },
     "execution_count": 161,
     "metadata": {},
     "output_type": "execute_result"
    }
   ],
   "source": [
    "data.columns"
   ]
  },
  {
   "cell_type": "code",
   "execution_count": 162,
   "id": "f63bbbd9",
   "metadata": {},
   "outputs": [
    {
     "data": {
      "text/plain": [
       "Product_name    object\n",
       "price           object\n",
       "disc_price      object\n",
       "location        object\n",
       "dtype: object"
      ]
     },
     "execution_count": 162,
     "metadata": {},
     "output_type": "execute_result"
    }
   ],
   "source": [
    "data.dtypes"
   ]
  },
  {
   "cell_type": "markdown",
   "id": "12d2da9c",
   "metadata": {},
   "source": [
    "To check Null Value"
   ]
  },
  {
   "cell_type": "code",
   "execution_count": 163,
   "id": "80ef2873",
   "metadata": {},
   "outputs": [
    {
     "name": "stdout",
     "output_type": "stream",
     "text": [
      "Product_name    0\n",
      "price           0\n",
      "disc_price      0\n",
      "location        0\n",
      "dtype: int64\n"
     ]
    }
   ],
   "source": [
    "print(data.isnull().sum())"
   ]
  },
  {
   "cell_type": "markdown",
   "id": "63422afc",
   "metadata": {},
   "source": [
    "To check all rows that have null values\n"
   ]
  },
  {
   "cell_type": "code",
   "execution_count": 164,
   "id": "2c3addcf",
   "metadata": {},
   "outputs": [
    {
     "name": "stdout",
     "output_type": "stream",
     "text": [
      "Empty DataFrame\n",
      "Columns: [Product_name, price, disc_price, location]\n",
      "Index: []\n"
     ]
    }
   ],
   "source": [
    "print(data[data.isnull().any(axis=1)])"
   ]
  },
  {
   "cell_type": "markdown",
   "id": "0426db45",
   "metadata": {},
   "source": [
    "Checking null values n Specific Column"
   ]
  },
  {
   "cell_type": "code",
   "execution_count": 165,
   "id": "86abf2ec",
   "metadata": {},
   "outputs": [
    {
     "name": "stdout",
     "output_type": "stream",
     "text": [
      "Empty DataFrame\n",
      "Columns: [Product_name, price, disc_price, location]\n",
      "Index: []\n"
     ]
    }
   ],
   "source": [
    "print(data[data['location'].isnull()])"
   ]
  },
  {
   "cell_type": "markdown",
   "id": "46a2d489",
   "metadata": {},
   "source": [
    "Get percentage of null "
   ]
  },
  {
   "cell_type": "code",
   "execution_count": 166,
   "id": "423f7f5c",
   "metadata": {},
   "outputs": [
    {
     "name": "stdout",
     "output_type": "stream",
     "text": [
      "Product_name    0.0\n",
      "price           0.0\n",
      "disc_price      0.0\n",
      "location        0.0\n",
      "dtype: float64\n"
     ]
    }
   ],
   "source": [
    "print(data.isnull().mean()*100)"
   ]
  },
  {
   "cell_type": "code",
   "execution_count": 167,
   "id": "9fd33df3",
   "metadata": {},
   "outputs": [],
   "source": [
    "df_clean=data.dropna()"
   ]
  },
  {
   "cell_type": "code",
   "execution_count": 168,
   "id": "30bdcd23",
   "metadata": {},
   "outputs": [
    {
     "data": {
      "text/html": [
       "<div>\n",
       "<style scoped>\n",
       "    .dataframe tbody tr th:only-of-type {\n",
       "        vertical-align: middle;\n",
       "    }\n",
       "\n",
       "    .dataframe tbody tr th {\n",
       "        vertical-align: top;\n",
       "    }\n",
       "\n",
       "    .dataframe thead th {\n",
       "        text-align: right;\n",
       "    }\n",
       "</style>\n",
       "<table border=\"1\" class=\"dataframe\">\n",
       "  <thead>\n",
       "    <tr style=\"text-align: right;\">\n",
       "      <th></th>\n",
       "      <th>Product_name</th>\n",
       "      <th>price</th>\n",
       "      <th>disc_price</th>\n",
       "      <th>location</th>\n",
       "    </tr>\n",
       "  </thead>\n",
       "  <tbody>\n",
       "    <tr>\n",
       "      <th>0</th>\n",
       "      <td>Esonic H61 Motherboard with M.2 NVMe SSD Slot,...</td>\n",
       "      <td>Rs. 8,500</td>\n",
       "      <td></td>\n",
       "      <td>Bagmati Province</td>\n",
       "    </tr>\n",
       "    <tr>\n",
       "      <th>1</th>\n",
       "      <td>ESONIC H61 Motherboard with M.2 NVMe SSD Slot,...</td>\n",
       "      <td>Rs. 8,500</td>\n",
       "      <td>Gems save Rs. 84</td>\n",
       "      <td>Bagmati Province</td>\n",
       "    </tr>\n",
       "    <tr>\n",
       "      <th>2</th>\n",
       "      <td>Matrix H61 MotherBoard with M.2 NVMe SSD Slot,...</td>\n",
       "      <td>Rs. 8,500</td>\n",
       "      <td></td>\n",
       "      <td>Bagmati Province</td>\n",
       "    </tr>\n",
       "    <tr>\n",
       "      <th>3</th>\n",
       "      <td>Esonic H81 DDR-3 Intel 4th Gen NVME MotherBoar...</td>\n",
       "      <td>Rs. 8,500</td>\n",
       "      <td>Gems save Rs. 40</td>\n",
       "      <td>Bagmati Province</td>\n",
       "    </tr>\n",
       "    <tr>\n",
       "      <th>4</th>\n",
       "      <td>ESONIC H61 Motherboard with M.2 NVMe SSD Slot,...</td>\n",
       "      <td>Rs. 8,500</td>\n",
       "      <td></td>\n",
       "      <td>Bagmati Province</td>\n",
       "    </tr>\n",
       "    <tr>\n",
       "      <th>5</th>\n",
       "      <td>H61 Motherboard With NVME Slot Supports i3, i5...</td>\n",
       "      <td>Rs. 8,500</td>\n",
       "      <td>Gems save Rs. 26</td>\n",
       "      <td>Bagmati Province</td>\n",
       "    </tr>\n",
       "    <tr>\n",
       "      <th>6</th>\n",
       "      <td>Gigabyte B450M K Ultra Durable MotherboardRs. ...</td>\n",
       "      <td>Rs. 8,500</td>\n",
       "      <td>Gems save Rs. 405</td>\n",
       "      <td>Bagmati Province</td>\n",
       "    </tr>\n",
       "    <tr>\n",
       "      <th>7</th>\n",
       "      <td>VARTEX H61-V8 Pro Series Motherboard with NVMe...</td>\n",
       "      <td>Rs. 8,500</td>\n",
       "      <td></td>\n",
       "      <td>Bagmati Province</td>\n",
       "    </tr>\n",
       "    <tr>\n",
       "      <th>8</th>\n",
       "      <td>Esonic H61 Motherboard 3rd Gen Intel H61 Chips...</td>\n",
       "      <td>Rs. 8,500</td>\n",
       "      <td>Gems save Rs. 30</td>\n",
       "      <td>Bagmati Province</td>\n",
       "    </tr>\n",
       "    <tr>\n",
       "      <th>9</th>\n",
       "      <td>Esonic H61 Motherboard With M.2 NVMe SSD Slot ...</td>\n",
       "      <td>Rs. 8,500</td>\n",
       "      <td></td>\n",
       "      <td>Bagmati Province</td>\n",
       "    </tr>\n",
       "    <tr>\n",
       "      <th>10</th>\n",
       "      <td>Esonic G41 MotherboardRs. 3,29019 sold(7)Bagma...</td>\n",
       "      <td>Rs. 8,500</td>\n",
       "      <td></td>\n",
       "      <td>Bagmati Province</td>\n",
       "    </tr>\n",
       "    <tr>\n",
       "      <th>11</th>\n",
       "      <td>High quality ESONIC H81 motherboards LGA1150 4...</td>\n",
       "      <td>Rs. 8,500</td>\n",
       "      <td>Gems save Rs. 118</td>\n",
       "      <td>Bagmati Province</td>\n",
       "    </tr>\n",
       "    <tr>\n",
       "      <th>12</th>\n",
       "      <td>ESP-32S ESP32 Development Board 2.4GHz WiFi + ...</td>\n",
       "      <td>Rs. 8,500</td>\n",
       "      <td></td>\n",
       "      <td>Bagmati Province</td>\n",
       "    </tr>\n",
       "    <tr>\n",
       "      <th>13</th>\n",
       "      <td>ESONIC H81 Motherboard with M.2 NVMe SSD Slot ...</td>\n",
       "      <td>Rs. 8,500</td>\n",
       "      <td></td>\n",
       "      <td>Bagmati Province</td>\n",
       "    </tr>\n",
       "    <tr>\n",
       "      <th>14</th>\n",
       "      <td>ESONIC H110 Motherboard witn M.2 NVMe Slot, Su...</td>\n",
       "      <td>Rs. 8,500</td>\n",
       "      <td>Gems save Rs. 195</td>\n",
       "      <td>Bagmati Province</td>\n",
       "    </tr>\n",
       "    <tr>\n",
       "      <th>15</th>\n",
       "      <td>ESONIC H81 Motherboard with M.2 NVMe SSD Slot ...</td>\n",
       "      <td>Rs. 8,500</td>\n",
       "      <td></td>\n",
       "      <td>Bagmati Province</td>\n",
       "    </tr>\n",
       "    <tr>\n",
       "      <th>16</th>\n",
       "      <td>Esonic G41 Mother BoardRs. 2,99912 sold(3)Kosh...</td>\n",
       "      <td>Rs. 8,500</td>\n",
       "      <td></td>\n",
       "      <td>Bagmati Province</td>\n",
       "    </tr>\n",
       "    <tr>\n",
       "      <th>17</th>\n",
       "      <td>H310 8TH Gen MotherBoardRs. 5,999Gems save Rs....</td>\n",
       "      <td>Rs. 8,500</td>\n",
       "      <td>Gems save Rs. 60</td>\n",
       "      <td>Bagmati Province</td>\n",
       "    </tr>\n",
       "    <tr>\n",
       "      <th>18</th>\n",
       "      <td>Combo Of NVME Powered Zebronics H81M2 And i3 4...</td>\n",
       "      <td>Rs. 8,500</td>\n",
       "      <td></td>\n",
       "      <td>Bagmati Province</td>\n",
       "    </tr>\n",
       "    <tr>\n",
       "      <th>19</th>\n",
       "      <td>Esonic Motherboard H61-FHL For Core 2nd/3th Ge...</td>\n",
       "      <td>Rs. 8,500</td>\n",
       "      <td></td>\n",
       "      <td>Bagmati Province</td>\n",
       "    </tr>\n",
       "    <tr>\n",
       "      <th>20</th>\n",
       "      <td>ESONIC H81 Motherboard  with M.2 NVMe SSD Slot...</td>\n",
       "      <td>Rs. 8,500</td>\n",
       "      <td>Gems save Rs. 150</td>\n",
       "      <td>Bagmati Province</td>\n",
       "    </tr>\n",
       "    <tr>\n",
       "      <th>21</th>\n",
       "      <td>ESONIC H110DA1 Micro ATX DDR4 Motherboard - In...</td>\n",
       "      <td>Rs. 8,500</td>\n",
       "      <td>Gems save Rs. 60</td>\n",
       "      <td>Bagmati Province</td>\n",
       "    </tr>\n",
       "    <tr>\n",
       "      <th>22</th>\n",
       "      <td>ESONIC H81 Motherboard with M.2 NVMe SSD Slot ...</td>\n",
       "      <td>Rs. 8,500</td>\n",
       "      <td>Gems save Rs. 40</td>\n",
       "      <td>Bagmati Province</td>\n",
       "    </tr>\n",
       "    <tr>\n",
       "      <th>23</th>\n",
       "      <td>Esonic H61 Motherboard For Intel i3/i5/i7(2nd/...</td>\n",
       "      <td>Rs. 8,500</td>\n",
       "      <td>Gems save Rs. 36</td>\n",
       "      <td>Bagmati Province</td>\n",
       "    </tr>\n",
       "    <tr>\n",
       "      <th>24</th>\n",
       "      <td>Esonic H610-DA Motherboard Intel H610 Chipset，...</td>\n",
       "      <td>Rs. 8,500</td>\n",
       "      <td>Gems save Rs. 285</td>\n",
       "      <td>Bagmati Province</td>\n",
       "    </tr>\n",
       "    <tr>\n",
       "      <th>25</th>\n",
       "      <td>Combo Of NVME Powered Zebronics H81M2 And i7 4...</td>\n",
       "      <td>Rs. 8,500</td>\n",
       "      <td></td>\n",
       "      <td>Bagmati Province</td>\n",
       "    </tr>\n",
       "    <tr>\n",
       "      <th>26</th>\n",
       "      <td>Combo Of NVME Powered Zebronics H61M2  And i3 ...</td>\n",
       "      <td>Rs. 8,500</td>\n",
       "      <td></td>\n",
       "      <td>Bagmati Province</td>\n",
       "    </tr>\n",
       "    <tr>\n",
       "      <th>27</th>\n",
       "      <td>RP 2040 Board Pico- ADIY FLYRs. 770(1)Bagmati ...</td>\n",
       "      <td>Rs. 8,500</td>\n",
       "      <td></td>\n",
       "      <td>Bagmati Province</td>\n",
       "    </tr>\n",
       "    <tr>\n",
       "      <th>28</th>\n",
       "      <td>Gigabyte B550M K Ultra Durable MotherboardRs. ...</td>\n",
       "      <td>Rs. 8,500</td>\n",
       "      <td>Gems save Rs. 540</td>\n",
       "      <td>Bagmati Province</td>\n",
       "    </tr>\n",
       "    <tr>\n",
       "      <th>29</th>\n",
       "      <td>Combo Of NVME Powered Zebronics H81M2 And i5 4...</td>\n",
       "      <td>Rs. 8,500</td>\n",
       "      <td></td>\n",
       "      <td>Bagmati Province</td>\n",
       "    </tr>\n",
       "    <tr>\n",
       "      <th>30</th>\n",
       "      <td>GIGABYTE ATX A520M K V2 Motherboard with GBe L...</td>\n",
       "      <td>Rs. 8,500</td>\n",
       "      <td>Gems save Rs. 465</td>\n",
       "      <td>Bagmati Province</td>\n",
       "    </tr>\n",
       "    <tr>\n",
       "      <th>31</th>\n",
       "      <td>h61 motherboard 3rd gen i3 i5 i7 processor sup...</td>\n",
       "      <td>Rs. 8,500</td>\n",
       "      <td></td>\n",
       "      <td>Bagmati Province</td>\n",
       "    </tr>\n",
       "    <tr>\n",
       "      <th>32</th>\n",
       "      <td>Gigabyte B550 Gaming X V2 ATX Gaming Motherboa...</td>\n",
       "      <td>Rs. 8,500</td>\n",
       "      <td>Gems save Rs. 735</td>\n",
       "      <td>Bagmati Province</td>\n",
       "    </tr>\n",
       "    <tr>\n",
       "      <th>33</th>\n",
       "      <td>Gigabyte B550 Gaming X V2 MotherboardRs. 24,99...</td>\n",
       "      <td>Rs. 8,500</td>\n",
       "      <td>Gems save Rs. 750</td>\n",
       "      <td>Bagmati Province</td>\n",
       "    </tr>\n",
       "    <tr>\n",
       "      <th>34</th>\n",
       "      <td>ESONIC H110 Motherboard witn M.2 NVMe Slot, Su...</td>\n",
       "      <td>Rs. 8,500</td>\n",
       "      <td></td>\n",
       "      <td>Bagmati Province</td>\n",
       "    </tr>\n",
       "    <tr>\n",
       "      <th>35</th>\n",
       "      <td>2 Digit PCI POST Diagnostic Motherboard Debugg...</td>\n",
       "      <td>Rs. 8,500</td>\n",
       "      <td>Gems save Rs. 4</td>\n",
       "      <td>Bagmati Province</td>\n",
       "    </tr>\n",
       "    <tr>\n",
       "      <th>36</th>\n",
       "      <td>Milk-V Duo 256MB Milk-V-Duo-256M SG2002 RISC V...</td>\n",
       "      <td>Rs. 8,500</td>\n",
       "      <td>Gems save Rs. 120</td>\n",
       "      <td>Bagmati Province</td>\n",
       "    </tr>\n",
       "    <tr>\n",
       "      <th>37</th>\n",
       "      <td>i5 4th Generation Processors For H81 Mainboard...</td>\n",
       "      <td>Rs. 8,500</td>\n",
       "      <td>Gems save Rs. 44</td>\n",
       "      <td>Bagmati Province</td>\n",
       "    </tr>\n",
       "    <tr>\n",
       "      <th>38</th>\n",
       "      <td>ESONIC H81 Motherboard with M.2 NVMe SSD Slot,...</td>\n",
       "      <td>Rs. 8,500</td>\n",
       "      <td>Gems save Rs. 117</td>\n",
       "      <td>Bagmati Province</td>\n",
       "    </tr>\n",
       "    <tr>\n",
       "      <th>39</th>\n",
       "      <td>Consistent H610 DDR4 Motherboard Support 12th ...</td>\n",
       "      <td>Rs. 8,500</td>\n",
       "      <td></td>\n",
       "      <td>Bagmati Province</td>\n",
       "    </tr>\n",
       "  </tbody>\n",
       "</table>\n",
       "</div>"
      ],
      "text/plain": [
       "                                         Product_name      price  \\\n",
       "0   Esonic H61 Motherboard with M.2 NVMe SSD Slot,...  Rs. 8,500   \n",
       "1   ESONIC H61 Motherboard with M.2 NVMe SSD Slot,...  Rs. 8,500   \n",
       "2   Matrix H61 MotherBoard with M.2 NVMe SSD Slot,...  Rs. 8,500   \n",
       "3   Esonic H81 DDR-3 Intel 4th Gen NVME MotherBoar...  Rs. 8,500   \n",
       "4   ESONIC H61 Motherboard with M.2 NVMe SSD Slot,...  Rs. 8,500   \n",
       "5   H61 Motherboard With NVME Slot Supports i3, i5...  Rs. 8,500   \n",
       "6   Gigabyte B450M K Ultra Durable MotherboardRs. ...  Rs. 8,500   \n",
       "7   VARTEX H61-V8 Pro Series Motherboard with NVMe...  Rs. 8,500   \n",
       "8   Esonic H61 Motherboard 3rd Gen Intel H61 Chips...  Rs. 8,500   \n",
       "9   Esonic H61 Motherboard With M.2 NVMe SSD Slot ...  Rs. 8,500   \n",
       "10  Esonic G41 MotherboardRs. 3,29019 sold(7)Bagma...  Rs. 8,500   \n",
       "11  High quality ESONIC H81 motherboards LGA1150 4...  Rs. 8,500   \n",
       "12  ESP-32S ESP32 Development Board 2.4GHz WiFi + ...  Rs. 8,500   \n",
       "13  ESONIC H81 Motherboard with M.2 NVMe SSD Slot ...  Rs. 8,500   \n",
       "14  ESONIC H110 Motherboard witn M.2 NVMe Slot, Su...  Rs. 8,500   \n",
       "15  ESONIC H81 Motherboard with M.2 NVMe SSD Slot ...  Rs. 8,500   \n",
       "16  Esonic G41 Mother BoardRs. 2,99912 sold(3)Kosh...  Rs. 8,500   \n",
       "17  H310 8TH Gen MotherBoardRs. 5,999Gems save Rs....  Rs. 8,500   \n",
       "18  Combo Of NVME Powered Zebronics H81M2 And i3 4...  Rs. 8,500   \n",
       "19  Esonic Motherboard H61-FHL For Core 2nd/3th Ge...  Rs. 8,500   \n",
       "20  ESONIC H81 Motherboard  with M.2 NVMe SSD Slot...  Rs. 8,500   \n",
       "21  ESONIC H110DA1 Micro ATX DDR4 Motherboard - In...  Rs. 8,500   \n",
       "22  ESONIC H81 Motherboard with M.2 NVMe SSD Slot ...  Rs. 8,500   \n",
       "23  Esonic H61 Motherboard For Intel i3/i5/i7(2nd/...  Rs. 8,500   \n",
       "24  Esonic H610-DA Motherboard Intel H610 Chipset，...  Rs. 8,500   \n",
       "25  Combo Of NVME Powered Zebronics H81M2 And i7 4...  Rs. 8,500   \n",
       "26  Combo Of NVME Powered Zebronics H61M2  And i3 ...  Rs. 8,500   \n",
       "27  RP 2040 Board Pico- ADIY FLYRs. 770(1)Bagmati ...  Rs. 8,500   \n",
       "28  Gigabyte B550M K Ultra Durable MotherboardRs. ...  Rs. 8,500   \n",
       "29  Combo Of NVME Powered Zebronics H81M2 And i5 4...  Rs. 8,500   \n",
       "30  GIGABYTE ATX A520M K V2 Motherboard with GBe L...  Rs. 8,500   \n",
       "31  h61 motherboard 3rd gen i3 i5 i7 processor sup...  Rs. 8,500   \n",
       "32  Gigabyte B550 Gaming X V2 ATX Gaming Motherboa...  Rs. 8,500   \n",
       "33  Gigabyte B550 Gaming X V2 MotherboardRs. 24,99...  Rs. 8,500   \n",
       "34  ESONIC H110 Motherboard witn M.2 NVMe Slot, Su...  Rs. 8,500   \n",
       "35  2 Digit PCI POST Diagnostic Motherboard Debugg...  Rs. 8,500   \n",
       "36  Milk-V Duo 256MB Milk-V-Duo-256M SG2002 RISC V...  Rs. 8,500   \n",
       "37  i5 4th Generation Processors For H81 Mainboard...  Rs. 8,500   \n",
       "38  ESONIC H81 Motherboard with M.2 NVMe SSD Slot,...  Rs. 8,500   \n",
       "39  Consistent H610 DDR4 Motherboard Support 12th ...  Rs. 8,500   \n",
       "\n",
       "           disc_price          location  \n",
       "0                      Bagmati Province  \n",
       "1    Gems save Rs. 84  Bagmati Province  \n",
       "2                      Bagmati Province  \n",
       "3    Gems save Rs. 40  Bagmati Province  \n",
       "4                      Bagmati Province  \n",
       "5    Gems save Rs. 26  Bagmati Province  \n",
       "6   Gems save Rs. 405  Bagmati Province  \n",
       "7                      Bagmati Province  \n",
       "8    Gems save Rs. 30  Bagmati Province  \n",
       "9                      Bagmati Province  \n",
       "10                     Bagmati Province  \n",
       "11  Gems save Rs. 118  Bagmati Province  \n",
       "12                     Bagmati Province  \n",
       "13                     Bagmati Province  \n",
       "14  Gems save Rs. 195  Bagmati Province  \n",
       "15                     Bagmati Province  \n",
       "16                     Bagmati Province  \n",
       "17   Gems save Rs. 60  Bagmati Province  \n",
       "18                     Bagmati Province  \n",
       "19                     Bagmati Province  \n",
       "20  Gems save Rs. 150  Bagmati Province  \n",
       "21   Gems save Rs. 60  Bagmati Province  \n",
       "22   Gems save Rs. 40  Bagmati Province  \n",
       "23   Gems save Rs. 36  Bagmati Province  \n",
       "24  Gems save Rs. 285  Bagmati Province  \n",
       "25                     Bagmati Province  \n",
       "26                     Bagmati Province  \n",
       "27                     Bagmati Province  \n",
       "28  Gems save Rs. 540  Bagmati Province  \n",
       "29                     Bagmati Province  \n",
       "30  Gems save Rs. 465  Bagmati Province  \n",
       "31                     Bagmati Province  \n",
       "32  Gems save Rs. 735  Bagmati Province  \n",
       "33  Gems save Rs. 750  Bagmati Province  \n",
       "34                     Bagmati Province  \n",
       "35    Gems save Rs. 4  Bagmati Province  \n",
       "36  Gems save Rs. 120  Bagmati Province  \n",
       "37   Gems save Rs. 44  Bagmati Province  \n",
       "38  Gems save Rs. 117  Bagmati Province  \n",
       "39                     Bagmati Province  "
      ]
     },
     "execution_count": 168,
     "metadata": {},
     "output_type": "execute_result"
    }
   ],
   "source": [
    "data"
   ]
  },
  {
   "cell_type": "code",
   "execution_count": null,
   "id": "e903eed3",
   "metadata": {},
   "outputs": [],
   "source": []
  }
 ],
 "metadata": {
  "kernelspec": {
   "display_name": "base",
   "language": "python",
   "name": "python3"
  },
  "language_info": {
   "codemirror_mode": {
    "name": "ipython",
    "version": 3
   },
   "file_extension": ".py",
   "mimetype": "text/x-python",
   "name": "python",
   "nbconvert_exporter": "python",
   "pygments_lexer": "ipython3",
   "version": "3.12.2"
  }
 },
 "nbformat": 4,
 "nbformat_minor": 5
}
